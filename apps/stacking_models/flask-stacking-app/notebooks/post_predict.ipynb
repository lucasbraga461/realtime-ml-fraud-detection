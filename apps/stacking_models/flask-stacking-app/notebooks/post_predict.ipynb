{
 "cells": [
  {
   "cell_type": "code",
   "execution_count": 39,
   "metadata": {},
   "outputs": [],
   "source": [
    "import requests\n",
    "import numpy as np\n",
    "from requests.auth import HTTPBasicAuth\n",
    "import json"
   ]
  },
  {
   "cell_type": "code",
   "execution_count": 40,
   "metadata": {},
   "outputs": [],
   "source": [
    "def get_response(url, timeout=False):\n",
    "    print(url)\n",
    "    if timeout:\n",
    "        response = requests.get(url, timeout=timeout)\n",
    "        print(response.status_code)\n",
    "    else:\n",
    "        response = requests.get(url)\n",
    "    print(response)"
   ]
  },
  {
   "cell_type": "code",
   "execution_count": 41,
   "metadata": {},
   "outputs": [],
   "source": [
    "def post_response(url, json_data):\n",
    "    print(f\"Sending POST request to {url} with data: {json_data}\")\n",
    "    response = requests.post(url, json=json_data)\n",
    "    print(f\"Response status code: {response.status_code}\")\n",
    "    if response.status_code == 200:\n",
    "        print(f\"Response JSON: {response.json()}\")\n",
    "        return response.json()\n",
    "    else:\n",
    "        print(f\"Error: {response.text}\")\n",
    "        return None"
   ]
  },
  {
   "cell_type": "code",
   "execution_count": 42,
   "metadata": {},
   "outputs": [],
   "source": [
    "data = {\n",
    "     \"Feature_1\": 2.0,\n",
    "     \"Feature_2\": 2.0,\n",
    "     \"Feature_3\": 2.0,\n",
    "     \"Feature_4\": 2.0\n",
    "}"
   ]
  },
  {
   "cell_type": "code",
   "execution_count": null,
   "metadata": {},
   "outputs": [],
   "source": []
  },
  {
   "cell_type": "markdown",
   "metadata": {},
   "source": [
    "## HTTP\n",
    "0.0.0.0 or  \n",
    "localhost or  \n",
    "127.0.0.1  "
   ]
  },
  {
   "cell_type": "markdown",
   "metadata": {},
   "source": [
    "### Without domain name"
   ]
  },
  {
   "cell_type": "markdown",
   "metadata": {},
   "source": [
    "#### GET request"
   ]
  },
  {
   "cell_type": "code",
   "execution_count": 5,
   "metadata": {},
   "outputs": [
    {
     "name": "stdout",
     "output_type": "stream",
     "text": [
      "http://localhost:8502/\n",
      "<Response [200]>\n",
      "CPU times: user 4.08 ms, sys: 620 µs, total: 4.7 ms\n",
      "Wall time: 6.7 ms\n"
     ]
    }
   ],
   "source": [
    "%%time\n",
    "get_response(url = \"http://localhost:8502/\")"
   ]
  },
  {
   "cell_type": "code",
   "execution_count": 6,
   "metadata": {},
   "outputs": [
    {
     "name": "stdout",
     "output_type": "stream",
     "text": [
      "http://0.0.0.0:8502/\n",
      "<Response [200]>\n",
      "CPU times: user 4.2 ms, sys: 0 ns, total: 4.2 ms\n",
      "Wall time: 6.57 ms\n"
     ]
    }
   ],
   "source": [
    "%%time\n",
    "get_response(url=\"http://0.0.0.0:8502/\")"
   ]
  },
  {
   "cell_type": "code",
   "execution_count": 7,
   "metadata": {},
   "outputs": [
    {
     "name": "stdout",
     "output_type": "stream",
     "text": [
      "http://127.0.0.1:8502/\n",
      "<Response [200]>\n",
      "CPU times: user 3.98 ms, sys: 0 ns, total: 3.98 ms\n",
      "Wall time: 5.37 ms\n"
     ]
    }
   ],
   "source": [
    "%%time\n",
    "get_response(url = \"http://127.0.0.1:8502/\")"
   ]
  },
  {
   "cell_type": "code",
   "execution_count": 8,
   "metadata": {},
   "outputs": [
    {
     "name": "stdout",
     "output_type": "stream",
     "text": [
      "<!doctype html>\n",
      "<html>\n",
      "    <head>\n",
      "        <title>Lucas' webserver</title>\n",
      "        <link rel=\"shortcut icon\" href=\"https://www.svgrepo.com/show/88703/api.svg\">\n",
      "    </head>\n",
      "    <body>\n",
      "        <p1>HTTPS Flask App from <b>Lucas' webserver</b></p1>\n",
      "        <ul>\n",
      "            <li><a href=\"https://lb-webserver.pro:8501\">lb-webserver.pro:8501</a> Sample Size Calculator</li>\n",
      "            <li><a href=\"https://lb-webserver.pro:8504\">lb-webserver.pro:8504</a> Jenkins</li>\n",
      "        </ul>\n",
      "        <p></p>\n",
      "    </body>\n",
      "</html>\n"
     ]
    }
   ],
   "source": [
    "response = requests.get(url = \"http://127.0.0.1:8502/\")\n",
    "print(response.text)"
   ]
  },
  {
   "cell_type": "markdown",
   "metadata": {},
   "source": [
    "#### POST request"
   ]
  },
  {
   "cell_type": "code",
   "execution_count": 10,
   "metadata": {},
   "outputs": [
    {
     "name": "stdout",
     "output_type": "stream",
     "text": [
      "Sending POST request to http://localhost:8502/predict with data: {'Feature_1': 2.0, 'Feature_2': 2.0, 'Feature_3': 2.0, 'Feature_4': 2.0}\n",
      "Response status code: 200\n",
      "Response JSON: {'model_name': 'random_forest_model', 'score': 0.77}\n",
      "CPU times: user 3.36 ms, sys: 520 µs, total: 3.88 ms\n",
      "Wall time: 11.3 ms\n"
     ]
    }
   ],
   "source": [
    "%%time\n",
    "response = post_response(url = \"http://localhost:8502/predict\", json_data=data)"
   ]
  },
  {
   "cell_type": "code",
   "execution_count": 11,
   "metadata": {},
   "outputs": [],
   "source": [
    "data = {\n",
    "     \"Feature_1\": 1.0,\n",
    "     \"Feature_2\": 1.0,\n",
    "     \"Feature_3\": 1.0,\n",
    "     \"Feature_4\": 1.0\n",
    "}"
   ]
  },
  {
   "cell_type": "code",
   "execution_count": 12,
   "metadata": {},
   "outputs": [
    {
     "name": "stdout",
     "output_type": "stream",
     "text": [
      "Sending POST request to http://localhost:8502/predict with data: {'Feature_1': 1.0, 'Feature_2': 1.0, 'Feature_3': 1.0, 'Feature_4': 1.0}\n",
      "Response status code: 200\n",
      "Response JSON: {'model_name': 'random_forest_model', 'score': 0.99}\n",
      "CPU times: user 0 ns, sys: 3.66 ms, total: 3.66 ms\n",
      "Wall time: 9.2 ms\n"
     ]
    }
   ],
   "source": [
    "%%time\n",
    "response = post_response(url = \"http://localhost:8502/predict\", json_data=data)"
   ]
  },
  {
   "cell_type": "markdown",
   "metadata": {},
   "source": [
    "## HTTPS\n",
    "with `domain name`"
   ]
  },
  {
   "cell_type": "code",
   "execution_count": 43,
   "metadata": {},
   "outputs": [],
   "source": [
    "# HOME_PATH = \"/home/ec2-user/Documents/GitHub/my-web-server\"\n",
    "PATH_AUTH = '/Users/l.benevides/Documents/personal/aws/auth_flask.json'\n",
    "# with open(f'{HOME_PATH}/{PATH_AUTH}', 'r') as file:\n",
    "with open(f'{PATH_AUTH}', 'r') as file:\n",
    "    json_api_key = json.load(file)"
   ]
  },
  {
   "cell_type": "markdown",
   "metadata": {},
   "source": [
    "#### GET request"
   ]
  },
  {
   "cell_type": "code",
   "execution_count": 61,
   "metadata": {},
   "outputs": [
    {
     "name": "stdout",
     "output_type": "stream",
     "text": [
      "https://lb-webserver.pro:8502/\n",
      "<Response [200]>\n",
      "CPU times: user 6.26 ms, sys: 1.61 ms, total: 7.88 ms\n",
      "Wall time: 665 ms\n"
     ]
    }
   ],
   "source": [
    "%%time\n",
    "url = \"https://lb-webserver.pro:8502/\"\n",
    "print(url)\n",
    "response = requests.get(url, auth=HTTPBasicAuth(json_api_key['prod']['user'], json_api_key['prod']['password']))\n",
    "print(response)"
   ]
  },
  {
   "cell_type": "markdown",
   "metadata": {},
   "source": [
    "#### POST request"
   ]
  },
  {
   "cell_type": "code",
   "execution_count": 56,
   "metadata": {},
   "outputs": [],
   "source": [
    "data = {\n",
    "     \"Feature_1\": 1.0,\n",
    "     \"Feature_2\": 1.0,\n",
    "     \"Feature_3\": 1.0,\n",
    "     \"Feature_4\": 1.0\n",
    "}"
   ]
  },
  {
   "cell_type": "code",
   "execution_count": 57,
   "metadata": {},
   "outputs": [
    {
     "name": "stdout",
     "output_type": "stream",
     "text": [
      "{\"model_name\":\"random_forest_model\",\"score\":0.99}\n",
      "\n",
      "CPU times: user 6.63 ms, sys: 2.51 ms, total: 9.14 ms\n",
      "Wall time: 726 ms\n"
     ]
    }
   ],
   "source": [
    "%%time\n",
    "response = requests.post(\n",
    "    url = \"https://lb-webserver.pro:8502/predict\", \n",
    "    json=data, \n",
    "    auth=HTTPBasicAuth(json_api_key['prod']['user'], json_api_key['prod']['password'])\n",
    ")\n",
    "print(response.text)"
   ]
  },
  {
   "cell_type": "code",
   "execution_count": 58,
   "metadata": {},
   "outputs": [],
   "source": [
    "data = {\n",
    "     \"Feature_1\": 2.0,\n",
    "     \"Feature_2\": 2.0,\n",
    "     \"Feature_3\": 2.0,\n",
    "     \"Feature_4\": 2.0\n",
    "}"
   ]
  },
  {
   "cell_type": "code",
   "execution_count": 59,
   "metadata": {},
   "outputs": [
    {
     "name": "stdout",
     "output_type": "stream",
     "text": [
      "{\"model_name\":\"random_forest_model\",\"score\":0.77}\n",
      "\n",
      "CPU times: user 6.16 ms, sys: 1.69 ms, total: 7.84 ms\n",
      "Wall time: 721 ms\n"
     ]
    }
   ],
   "source": [
    "%%time\n",
    "response = requests.post(\n",
    "    url = \"https://lb-webserver.pro:8502/predict\", \n",
    "    json=data, \n",
    "    auth=HTTPBasicAuth(json_api_key['prod']['user'], json_api_key['prod']['password'])\n",
    ")\n",
    "print(response.text)"
   ]
  },
  {
   "cell_type": "code",
   "execution_count": null,
   "metadata": {},
   "outputs": [],
   "source": []
  }
 ],
 "metadata": {
  "kernelspec": {
   "display_name": "venv-webs",
   "language": "python",
   "name": "python3"
  },
  "language_info": {
   "codemirror_mode": {
    "name": "ipython",
    "version": 3
   },
   "file_extension": ".py",
   "mimetype": "text/x-python",
   "name": "python",
   "nbconvert_exporter": "python",
   "pygments_lexer": "ipython3",
   "version": "3.9.16"
  }
 },
 "nbformat": 4,
 "nbformat_minor": 2
}
